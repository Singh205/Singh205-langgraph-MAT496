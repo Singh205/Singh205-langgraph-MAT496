{
 "cells": [
  {
   "cell_type": "markdown",
   "id": "fb0ebaf1",
   "metadata": {},
   "source": [
    "[![Open in Colab](https://colab.research.google.com/assets/colab-badge.svg)](https://colab.research.google.com/github/langchain-ai/langchain-academy/blob/main/module-2/trim-filter-messages.ipynb) [![Open in LangChain Academy](https://cdn.prod.website-files.com/65b8cd72835ceeacd4449a53/66e9eba12c7b7688aa3dbb5e_LCA-badge-green.svg)](https://academy.langchain.com/courses/take/intro-to-langgraph/lessons/58239435-lesson-4-trim-and-filter-messages)"
   ]
  },
  {
   "cell_type": "markdown",
   "id": "c52ea2f9-03ff-4647-b782-46867ebed04e",
   "metadata": {},
   "source": [
    "# Filtering and trimming messages\n",
    "\n",
    "## Review\n",
    "\n",
    "Now, we have a deeper understanding of a few things: \n",
    "\n",
    "* How to customize the graph state schema\n",
    "* How to define custom state reducers\n",
    "* How to use multiple graph state schemas\n",
    "\n",
    "## Goals\n",
    "\n",
    "Now, we can start using these concepts with models in LangGraph!\n",
    " \n",
    "In the next few sessions, we'll build towards a chatbot that has long-term memory.\n",
    "\n",
    "Because our chatbot will use messages, let's first talk a bit more about advanced ways to work with messages in graph state."
   ]
  },
  {
   "cell_type": "code",
   "execution_count": 1,
   "id": "d5197aba-5d46-421b-ae3b-4e3034edcfda",
   "metadata": {},
   "outputs": [],
   "source": [
    "%%capture --no-stderr\n",
    "%pip install --quiet -U langchain_core langgraph langchain_openai"
   ]
  },
  {
   "cell_type": "code",
   "execution_count": 2,
   "id": "768dc606-d5f2-468d-96ea-910b264e0f8a",
   "metadata": {},
   "outputs": [],
   "source": [
    "import os, getpass\n",
    "\n",
    "def _set_env(var: str):\n",
    "    if not os.environ.get(var):\n",
    "        os.environ[var] = getpass.getpass(f\"{var}: \")\n",
    "\n",
    "_set_env(\"OPENAI_API_KEY\")"
   ]
  },
  {
   "cell_type": "markdown",
   "id": "8b64d8d3-e4ac-4961-bdc0-688825eb5864",
   "metadata": {},
   "source": [
    "We'll use [LangSmith](https://docs.smith.langchain.com/) for [tracing](https://docs.smith.langchain.com/concepts/tracing).\n",
    "\n",
    "We'll log to a project, `langchain-academy`. "
   ]
  },
  {
   "cell_type": "code",
   "execution_count": 3,
   "id": "dd020c79",
   "metadata": {},
   "outputs": [],
   "source": [
    "_set_env(\"LANGSMITH_API_KEY\")\n",
    "os.environ[\"LANGSMITH_TRACING\"] = \"true\"\n",
    "os.environ[\"LANGSMITH_PROJECT\"] = \"langchain-academy\""
   ]
  },
  {
   "cell_type": "markdown",
   "id": "72f3fc90-58b6-4f7f-897e-dddf6ae532c7",
   "metadata": {},
   "source": [
    "## Messages as state\n",
    "\n",
    "First, let's define some messages."
   ]
  },
  {
   "cell_type": "code",
   "execution_count": 4,
   "id": "cf11a463-e27a-4a05-b41d-64882e38edca",
   "metadata": {},
   "outputs": [
    {
     "name": "stdout",
     "output_type": "stream",
     "text": [
      "==================================\u001b[1m Ai Message \u001b[0m==================================\n",
      "Name: Bot\n",
      "\n",
      "So you said you were researching mahabharat?\n",
      "================================\u001b[1m Human Message \u001b[0m=================================\n",
      "Name: Balram\n",
      "\n",
      "Yes, I know about mahabharat. But what other wars should I learn about?\n"
     ]
    }
   ],
   "source": [
    "from pprint import pprint\n",
    "from langchain_core.messages import AIMessage, HumanMessage\n",
    "messages = [AIMessage(f\"So you said you were researching mahabharat?\", name=\"Bot\")]\n",
    "messages.append(HumanMessage(f\"Yes, I know about mahabharat. But what other wars should I learn about?\", name=\"Balram\"))\n",
    "\n",
    "for m in messages:\n",
    "    m.pretty_print()"
   ]
  },
  {
   "cell_type": "markdown",
   "id": "b814adcb-6bf9-4b75-be11-e59f933fbd0c",
   "metadata": {},
   "source": [
    "Recall we can pass them to a chat model."
   ]
  },
  {
   "cell_type": "code",
   "execution_count": 5,
   "id": "4712e288-e622-48a2-ad3f-a52f65f3ab08",
   "metadata": {},
   "outputs": [
    {
     "data": {
      "text/plain": [
       "AIMessage(content='If you\\'re interested in learning about significant historical wars beyond the Mahabharata, here are a few you might find intriguing:\\n\\n1. **Trojan War**: An ancient conflict from Greek mythology, primarily known through Homer\\'s \"Iliad.\" It involved the Greeks and the city of Troy and is famous for its characters like Achilles and Hector.\\n\\n2. **Persian Wars**: A series of conflicts between the Greek city-states and the Persian Empire during the 5th century BCE, notable battles include Marathon, Thermopylae, and Salamis.\\n\\n3. **Peloponnesian War**: A protracted and destructive conflict between Athens and Sparta, along with their respective allies, in ancient Greece.\\n\\n4. **Punic Wars**: A series of three wars fought between Rome and Carthage, including the famous Hannibal and his crossing of the Alps with elephants in the Second Punic War.\\n\\n5. **Hundred Years\\' War**: A series of conflicts waged from 1337 to 1453 between England and France over territorial claims and the right to the French throne.\\n\\n6. **Napoleonic Wars**: A series of major conflicts led by Napoleon Bonaparte, pitting the French Empire against various European coalitions.\\n\\n7. **American Civil War**: A pivotal conflict in the United States from 1861 to 1865, primarily over the issues of slavery and states\\' rights, leading to significant political and social changes.\\n\\n8. **World War I**: Also known as the Great War, a global war originating in Europe from 1914 to 1918, involving many of the world\\'s great powers.\\n\\n9. **World War II**: The largest and deadliest conflict in human history, lasting from 1939 to 1945, involving most of the world\\'s nations. \\n\\n10. **Vietnam War**: A prolonged conflict from 1955 to 1975, involving North and South Vietnam, with heavy US military involvement, reflecting Cold War tensions.\\n\\nEach of these conflicts has had significant impacts on history and offers rich insights into military strategy, diplomacy, and the human condition.', additional_kwargs={'refusal': None}, response_metadata={'token_usage': {'completion_tokens': 434, 'prompt_tokens': 46, 'total_tokens': 480, 'completion_tokens_details': {'accepted_prediction_tokens': 0, 'audio_tokens': 0, 'reasoning_tokens': 0, 'rejected_prediction_tokens': 0}, 'prompt_tokens_details': {'audio_tokens': 0, 'cached_tokens': 0}}, 'model_provider': 'openai', 'model_name': 'gpt-4o-2024-08-06', 'system_fingerprint': 'fp_eb3c3cb84d', 'id': 'chatcmpl-CSxitEuyMILLFBwNAEIb976Bb0rfB', 'service_tier': 'default', 'finish_reason': 'stop', 'logprobs': None}, id='lc_run--600a8cf7-c449-4f54-ac0c-39e05afb754f-0', usage_metadata={'input_tokens': 46, 'output_tokens': 434, 'total_tokens': 480, 'input_token_details': {'audio': 0, 'cache_read': 0}, 'output_token_details': {'audio': 0, 'reasoning': 0}})"
      ]
     },
     "execution_count": 5,
     "metadata": {},
     "output_type": "execute_result"
    }
   ],
   "source": [
    "from langchain_openai import ChatOpenAI\n",
    "llm = ChatOpenAI(model=\"gpt-4o\")\n",
    "llm.invoke(messages)"
   ]
  },
  {
   "cell_type": "markdown",
   "id": "fbd1dab8-0af8-4621-8264-ce65065f76ec",
   "metadata": {},
   "source": [
    "We can run our chat model in a simple graph with `MessagesState`."
   ]
  },
  {
   "cell_type": "code",
   "execution_count": 6,
   "id": "bbd8c39c-633b-4176-9cc6-8318e42bb5dd",
   "metadata": {},
   "outputs": [
    {
     "data": {
      "image/png": "[encoded data removed]",
      "text/plain": [
       "<IPython.core.display.Image object>"
      ]
     },
     "metadata": {},
     "output_type": "display_data"
    }
   ],
   "source": [
    "from IPython.display import Image, display\n",
    "from langgraph.graph import MessagesState\n",
    "from langgraph.graph import StateGraph, START, END\n",
    "\n",
    "# Node\n",
    "def chat_model_node(state: MessagesState):\n",
    "    return {\"messages\": llm.invoke(state[\"messages\"])}\n",
    "\n",
    "# Build graph\n",
    "builder = StateGraph(MessagesState)\n",
    "builder.add_node(\"chat_model\", chat_model_node)\n",
    "builder.add_edge(START, \"chat_model\")\n",
    "builder.add_edge(\"chat_model\", END)\n",
    "graph = builder.compile()\n",
    "\n",
    "# View\n",
    "display(Image(graph.get_graph().draw_mermaid_png()))"
   ]
  },
  {
   "cell_type": "code",
   "execution_count": 7,
   "id": "3a5a3e4a-ccfd-4d14-81f1-f0de6e11a1e4",
   "metadata": {},
   "outputs": [
    {
     "name": "stdout",
     "output_type": "stream",
     "text": [
      "==================================\u001b[1m Ai Message \u001b[0m==================================\n",
      "Name: Bot\n",
      "\n",
      "So you said you were researching mahabharat?\n",
      "================================\u001b[1m Human Message \u001b[0m=================================\n",
      "Name: Balram\n",
      "\n",
      "Yes, I know about mahabharat. But what other wars should I learn about?\n",
      "==================================\u001b[1m Ai Message \u001b[0m==================================\n",
      "\n",
      "If you're interested in significant wars throughout history, here are some major ones you might explore:\n",
      "\n",
      "1. **The Trojan War** - A legendary conflict in Greek mythology between the city of Troy and the Greeks, sparked by the abduction of Helen.\n",
      "\n",
      "2. **The Peloponnesian War** - Fought between the Athenian Empire and Sparta, along with their respective allies in ancient Greece.\n",
      "\n",
      "3. **The Punic Wars** - A series of three wars between Rome and Carthage that marked an era of Roman dominance over the Mediterranean.\n",
      "\n",
      "4. **The Hundred Years' War** - A series of conflicts waged from 1337 to 1453 between the Kingdom of England and the Kingdom of France, affecting the ruling houses of these countries.\n",
      "\n",
      "5. **The American Revolutionary War** - A war from 1775–1783 in which the Thirteen American Colonies won independence from Britain.\n",
      "\n",
      "6. **The Napoleonic Wars** - A series of major conflicts involving Napoleon Bonaparte and various European coalitions.\n",
      "\n",
      "7. **The American Civil War** - Fought from 1861 to 1865 between Northern states (the Union) and Southern secessionist states (the Confederacy) over issues like states' rights and slavery.\n",
      "\n",
      "8. **World War I** - From 1914 to 1918, major world powers were involved in this devastating conflict, known as the Great War.\n",
      "\n",
      "9. **World War II** - A global war fought from 1939 to 1945 involving most of the world's nations, marked by significant events like the Holocaust and the use of nuclear weapons.\n",
      "\n",
      "10. **The Vietnam War** - A prolonged conflict that took place from 1955 to 1975 between communist North Vietnam and non-communist South Vietnam, heavily involving the United States.\n",
      "\n",
      "11. **The Persian Gulf War** - A conflict in 1990-1991 where a coalition led by the United States liberated Kuwait from Iraqi occupation.\n",
      "\n",
      "Studying these wars can offer insights into different aspects of human history, such as strategic developments, political impacts, and the social and cultural changes that often result from war.\n"
     ]
    }
   ],
   "source": [
    "output = graph.invoke({'messages': messages})\n",
    "for m in output['messages']:\n",
    "    m.pretty_print()"
   ]
  },
  {
   "cell_type": "markdown",
   "id": "34c33e63-1ef4-412d-bb10-6a1b9e5b35a7",
   "metadata": {},
   "source": [
    "## Reducer\n",
    "\n",
    "A practical challenge when working with messages is managing long-running conversations. \n",
    "\n",
    "Long-running conversations result in high token usage and latency if we are not careful, because we pass a growing list of messages to the model.\n",
    "\n",
    "We have a few ways to address this.\n",
    "\n",
    "First, recall the trick we saw using `RemoveMessage` and the `add_messages` reducer."
   ]
  },
  {
   "cell_type": "code",
   "execution_count": 8,
   "id": "222c6bc5-bb0e-4a43-80f5-c8ec38d99f3a",
   "metadata": {},
   "outputs": [
    {
     "data": {
      "image/png": "[encoded data removed]",
      "text/plain": [
       "<IPython.core.display.Image object>"
      ]
     },
     "metadata": {},
     "output_type": "display_data"
    }
   ],
   "source": [
    "from langchain_core.messages import RemoveMessage\n",
    "\n",
    "# Nodes\n",
    "def filter_messages(state: MessagesState):\n",
    "    # Delete all but the 2 most recent messages\n",
    "    delete_messages = [RemoveMessage(id=m.id) for m in state[\"messages\"][:-2]]\n",
    "    return {\"messages\": delete_messages}\n",
    "\n",
    "def chat_model_node(state: MessagesState):    \n",
    "    return {\"messages\": [llm.invoke(state[\"messages\"])]}\n",
    "\n",
    "# Build graph\n",
    "builder = StateGraph(MessagesState)\n",
    "builder.add_node(\"filter\", filter_messages)\n",
    "builder.add_node(\"chat_model\", chat_model_node)\n",
    "builder.add_edge(START, \"filter\")\n",
    "builder.add_edge(\"filter\", \"chat_model\")\n",
    "builder.add_edge(\"chat_model\", END)\n",
    "graph = builder.compile()\n",
    "\n",
    "# View\n",
    "display(Image(graph.get_graph().draw_mermaid_png()))"
   ]
  },
  {
   "cell_type": "code",
   "execution_count": 9,
   "id": "95a7c2cc-54ce-43e7-9a90-abf37827d709",
   "metadata": {},
   "outputs": [
    {
     "name": "stdout",
     "output_type": "stream",
     "text": [
      "==================================\u001b[1m Ai Message \u001b[0m==================================\n",
      "Name: Bot\n",
      "\n",
      "So you said you were researching mahabharat?\n",
      "================================\u001b[1m Human Message \u001b[0m=================================\n",
      "Name: Balram\n",
      "\n",
      "Yes, I know about mahabharat. But what others should I learn about?\n",
      "==================================\u001b[1m Ai Message \u001b[0m==================================\n",
      "\n",
      "Apart from the Mahabharata, there are several other significant texts and areas of study within Indian mythology and literature that you might find interesting:\n",
      "\n",
      "1. **Ramayana**: Another major epic, attributed to the sage Valmiki. It tells the story of Lord Rama, his wife Sita, and his loyal companion Hanuman, battling the demon king Ravana.\n",
      "\n",
      "2. **Upanishads**: Philosophical texts that form the basis of several key concepts in Hindu philosophy, discussing topics such as Brahman, Atman, and moksha.\n",
      "\n",
      "3. **Bhagavad Gita**: A 700-verse Hindu scripture that is part of the Mahabharata, consisting of a conversation between prince Arjuna and the god Krishna, who serves as his charioteer.\n",
      "\n",
      "4. **Puranas**: A genre of ancient Indian literature encompassing a wide range of topics including myths, legends, and histories. The Bhagavata Purana, Shiva Purana, and Vishnu Purana are well-known examples.\n",
      "\n",
      "5. **Vedas**: The oldest sacred texts of Hinduism, comprising four main types - Rigveda, Samaveda, Yajurveda, and Atharvaveda. They form the foundation of Hindu religion and philosophy.\n",
      "\n",
      "6. **Indian Folklore and Regional Epics**: Different regions in India have their own set of stories and local epics, like the Tamil epic, Silappatikaram, and tales from Panchatantra and Jataka.\n",
      "\n",
      "7. **Dharmaśāstras**: Ancient Indian texts prescribing moral law and governance, like Manusmriti, dealing with civil and legal duties.\n",
      "\n",
      "8. **Classical Indian Literature**: Works like the plays and poems of Kalidasa, Bhavabhuti, and others provide insight into classical Indian culture and thought.\n",
      "\n",
      "9. **Yoga Sutras of Patanjali**: Essential texts on the philosophy and practice of yoga, offering insights into meditation and spiritual liberation.\n",
      "\n",
      "Exploring these texts can offer a deeper understanding of Indian culture, mythology, and philosophical thought.\n"
     ]
    }
   ],
   "source": [
    "# Message list with a preamble\n",
    "messages = [AIMessage(\"Hi.\", name=\"Bot\", id=\"1\")]\n",
    "messages.append(HumanMessage(\"Hi.\", name=\"Balram\", id=\"2\"))\n",
    "messages.append(AIMessage(\"So you said you were researching mahabharat?\", name=\"Bot\", id=\"3\"))\n",
    "messages.append(HumanMessage(\"Yes, I know about mahabharat. But what others should I learn about?\", name=\"Balram\", id=\"4\"))\n",
    "\n",
    "# Invoke\n",
    "output = graph.invoke({'messages': messages})\n",
    "for m in output['messages']:\n",
    "    m.pretty_print()"
   ]
  },
  {
   "cell_type": "markdown",
   "id": "f506457d-014b-4fee-a684-e5edfb4b8f0d",
   "metadata": {},
   "source": [
    "## Filtering messages\n",
    "\n",
    "If you don't need or want to modify the graph state, you can just filter the messages you pass to the chat model.\n",
    "\n",
    "For example, just pass in a filtered list: `llm.invoke(messages[-1:])` to the model."
   ]
  },
  {
   "cell_type": "code",
   "execution_count": 10,
   "id": "22d0b904-7cd6-486b-8948-105bee3d4683",
   "metadata": {},
   "outputs": [
    {
     "data": {
      "image/png": "[encoded data removed]",
      "text/plain": [
       "<IPython.core.display.Image object>"
      ]
     },
     "metadata": {},
     "output_type": "display_data"
    }
   ],
   "source": [
    "# Node\n",
    "def chat_model_node(state: MessagesState):\n",
    "    return {\"messages\": [llm.invoke(state[\"messages\"][-1:])]}\n",
    "\n",
    "# Build graph\n",
    "builder = StateGraph(MessagesState)\n",
    "builder.add_node(\"chat_model\", chat_model_node)\n",
    "builder.add_edge(START, \"chat_model\")\n",
    "builder.add_edge(\"chat_model\", END)\n",
    "graph = builder.compile()\n",
    "\n",
    "# View\n",
    "display(Image(graph.get_graph().draw_mermaid_png()))"
   ]
  },
  {
   "cell_type": "markdown",
   "id": "6f58c6fc-532f-418d-b70a-cfcb3307daf5",
   "metadata": {},
   "source": [
    "Let's take our existing list of messages, append the above LLM response, and append a follow-up question."
   ]
  },
  {
   "cell_type": "code",
   "execution_count": 11,
   "id": "16956015-1dbe-4108-89b5-4209b68b51ca",
   "metadata": {},
   "outputs": [],
   "source": [
    "messages.append(output['messages'][-1])\n",
    "messages.append(HumanMessage(f\"Tell me more about Greeks!\", name=\"Balram\"))"
   ]
  },
  {
   "cell_type": "code",
   "execution_count": 12,
   "id": "85563415-c085-46a8-a4ac-155df798c54e",
   "metadata": {},
   "outputs": [
    {
     "name": "stdout",
     "output_type": "stream",
     "text": [
      "==================================\u001b[1m Ai Message \u001b[0m==================================\n",
      "Name: Bot\n",
      "\n",
      "Hi.\n",
      "================================\u001b[1m Human Message \u001b[0m=================================\n",
      "Name: Balram\n",
      "\n",
      "Hi.\n",
      "==================================\u001b[1m Ai Message \u001b[0m==================================\n",
      "Name: Bot\n",
      "\n",
      "So you said you were researching mahabharat?\n",
      "================================\u001b[1m Human Message \u001b[0m=================================\n",
      "Name: Balram\n",
      "\n",
      "Yes, I know about mahabharat. But what others should I learn about?\n",
      "==================================\u001b[1m Ai Message \u001b[0m==================================\n",
      "\n",
      "Apart from the Mahabharata, there are several other significant texts and areas of study within Indian mythology and literature that you might find interesting:\n",
      "\n",
      "1. **Ramayana**: Another major epic, attributed to the sage Valmiki. It tells the story of Lord Rama, his wife Sita, and his loyal companion Hanuman, battling the demon king Ravana.\n",
      "\n",
      "2. **Upanishads**: Philosophical texts that form the basis of several key concepts in Hindu philosophy, discussing topics such as Brahman, Atman, and moksha.\n",
      "\n",
      "3. **Bhagavad Gita**: A 700-verse Hindu scripture that is part of the Mahabharata, consisting of a conversation between prince Arjuna and the god Krishna, who serves as his charioteer.\n",
      "\n",
      "4. **Puranas**: A genre of ancient Indian literature encompassing a wide range of topics including myths, legends, and histories. The Bhagavata Purana, Shiva Purana, and Vishnu Purana are well-known examples.\n",
      "\n",
      "5. **Vedas**: The oldest sacred texts of Hinduism, comprising four main types - Rigveda, Samaveda, Yajurveda, and Atharvaveda. They form the foundation of Hindu religion and philosophy.\n",
      "\n",
      "6. **Indian Folklore and Regional Epics**: Different regions in India have their own set of stories and local epics, like the Tamil epic, Silappatikaram, and tales from Panchatantra and Jataka.\n",
      "\n",
      "7. **Dharmaśāstras**: Ancient Indian texts prescribing moral law and governance, like Manusmriti, dealing with civil and legal duties.\n",
      "\n",
      "8. **Classical Indian Literature**: Works like the plays and poems of Kalidasa, Bhavabhuti, and others provide insight into classical Indian culture and thought.\n",
      "\n",
      "9. **Yoga Sutras of Patanjali**: Essential texts on the philosophy and practice of yoga, offering insights into meditation and spiritual liberation.\n",
      "\n",
      "Exploring these texts can offer a deeper understanding of Indian culture, mythology, and philosophical thought.\n",
      "================================\u001b[1m Human Message \u001b[0m=================================\n",
      "Name: Balram\n",
      "\n",
      "Tell me more about Greeks!\n"
     ]
    }
   ],
   "source": [
    "for m in messages:\n",
    "    m.pretty_print()"
   ]
  },
  {
   "cell_type": "code",
   "execution_count": 13,
   "id": "23349705-a059-47b5-9760-d8f64e687393",
   "metadata": {},
   "outputs": [
    {
     "name": "stdout",
     "output_type": "stream",
     "text": [
      "==================================\u001b[1m Ai Message \u001b[0m==================================\n",
      "Name: Bot\n",
      "\n",
      "Hi.\n",
      "================================\u001b[1m Human Message \u001b[0m=================================\n",
      "Name: Balram\n",
      "\n",
      "Hi.\n",
      "==================================\u001b[1m Ai Message \u001b[0m==================================\n",
      "Name: Bot\n",
      "\n",
      "So you said you were researching mahabharat?\n",
      "================================\u001b[1m Human Message \u001b[0m=================================\n",
      "Name: Balram\n",
      "\n",
      "Yes, I know about mahabharat. But what others should I learn about?\n",
      "==================================\u001b[1m Ai Message \u001b[0m==================================\n",
      "\n",
      "Apart from the Mahabharata, there are several other significant texts and areas of study within Indian mythology and literature that you might find interesting:\n",
      "\n",
      "1. **Ramayana**: Another major epic, attributed to the sage Valmiki. It tells the story of Lord Rama, his wife Sita, and his loyal companion Hanuman, battling the demon king Ravana.\n",
      "\n",
      "2. **Upanishads**: Philosophical texts that form the basis of several key concepts in Hindu philosophy, discussing topics such as Brahman, Atman, and moksha.\n",
      "\n",
      "3. **Bhagavad Gita**: A 700-verse Hindu scripture that is part of the Mahabharata, consisting of a conversation between prince Arjuna and the god Krishna, who serves as his charioteer.\n",
      "\n",
      "4. **Puranas**: A genre of ancient Indian literature encompassing a wide range of topics including myths, legends, and histories. The Bhagavata Purana, Shiva Purana, and Vishnu Purana are well-known examples.\n",
      "\n",
      "5. **Vedas**: The oldest sacred texts of Hinduism, comprising four main types - Rigveda, Samaveda, Yajurveda, and Atharvaveda. They form the foundation of Hindu religion and philosophy.\n",
      "\n",
      "6. **Indian Folklore and Regional Epics**: Different regions in India have their own set of stories and local epics, like the Tamil epic, Silappatikaram, and tales from Panchatantra and Jataka.\n",
      "\n",
      "7. **Dharmaśāstras**: Ancient Indian texts prescribing moral law and governance, like Manusmriti, dealing with civil and legal duties.\n",
      "\n",
      "8. **Classical Indian Literature**: Works like the plays and poems of Kalidasa, Bhavabhuti, and others provide insight into classical Indian culture and thought.\n",
      "\n",
      "9. **Yoga Sutras of Patanjali**: Essential texts on the philosophy and practice of yoga, offering insights into meditation and spiritual liberation.\n",
      "\n",
      "Exploring these texts can offer a deeper understanding of Indian culture, mythology, and philosophical thought.\n",
      "================================\u001b[1m Human Message \u001b[0m=================================\n",
      "Name: Balram\n",
      "\n",
      "Tell me more about Greeks!\n",
      "==================================\u001b[1m Ai Message \u001b[0m==================================\n",
      "\n",
      "Certainly! \"Greeks\" can refer to different things depending on the context, so I'll cover a few of the main ones:\n",
      "\n",
      "1. **Ancient Greece**: This refers to a period in history lasting from the archaic period of the 8th to 6th centuries BC to the end of antiquity around 600 AD. Ancient Greece is considered the cradle of Western civilization and is renowned for its contributions to art, philosophy, politics, science, and architecture. Notable figures include philosophers like Socrates, Plato, and Aristotle; mathematicians like Pythagoras and Euclid; and leaders like Alexander the Great.\n",
      "\n",
      "2. **Modern Greeks**: These are the people of Greece, a country in southeastern Europe. Greece is known for its rich history, beautiful landscapes, and as the birthplace of democracy. Modern Greeks maintain cultural traditions that date back thousands of years and have a strong sense of national identity.\n",
      "\n",
      "3. **Greek Language**: Greek is an independent branch of the Indo-European family of languages, with a documented history spanning over 3,400 years. It's one of the oldest recorded living languages in the world. Ancient Greek has an immense body of literature, with texts that are foundational to Western literature and philosophy.\n",
      "\n",
      "4. **Greeks in Finance**: In financial markets, \"Greeks\" refers to a set of measures that describe the sensitivity of an option's price to various factors. The most common Greeks are:\n",
      "   - **Delta**: Measures the sensitivity of an option's price to changes in the price of the underlying asset.\n",
      "   - **Gamma**: Measures the rate of change of Delta with respect to changes in the underlying price.\n",
      "   - **Theta**: Represents the sensitivity of the option's price to the passage of time, also known as time decay.\n",
      "   - **Vega**: Measures sensitivity to volatility; how much the price of an option changes when the volatility of the underlying asset changes.\n",
      "   - **Rho**: Measures sensitivity to the interest rate; how much the price of an option changes in response to changes in interest rates.\n",
      "\n",
      "5. **Greek Mythology**: This is a collection of myths and legends belonging to the ancient Greeks, concerning their gods and heroes, the nature of the world, and the rituals of their religion. Major deities include Zeus, Hera, Poseidon, Athena, and Apollo, among others. These stories have had a profound influence on Western culture and literature.\n",
      "\n",
      "If you have a specific area of interest related to \"Greeks,\" feel free to ask for more detailed information!\n"
     ]
    }
   ],
   "source": [
    "# Invoke, using message filtering\n",
    "output = graph.invoke({'messages': messages})\n",
    "for m in output['messages']:\n",
    "    m.pretty_print()"
   ]
  },
  {
   "cell_type": "markdown",
   "id": "42e1d8d2-e297-4d78-b54c-d12b3c866745",
   "metadata": {},
   "source": [
    "The state has all of the mesages.\n",
    "\n",
    "But, let's look at the LangSmith trace to see that the model invocation only uses the last message:\n",
    "\n",
    "https://smith.langchain.com/public/75aca3ce-ef19-4b92-94be-0178c7a660d9/r"
   ]
  },
  {
   "cell_type": "markdown",
   "id": "fc40d930-3c1f-47fe-8d2a-ce174873353c",
   "metadata": {},
   "source": [
    "## Trim messages\n",
    "\n",
    "Another approach is to [trim messages](https://python.langchain.com/v0.2/docs/how_to/trim_messages/#getting-the-last-max_tokens-tokens), based upon a set number of tokens. \n",
    "\n",
    "This restricts the message history to a specified number of tokens.\n",
    "\n",
    "While filtering only returns a post-hoc subset of the messages between agents, trimming restricts the number of tokens that a chat model can use to respond.\n",
    "\n",
    "See the `trim_messages` below."
   ]
  },
  {
   "cell_type": "code",
   "execution_count": 14,
   "id": "2ff99b81-cf03-4cc2-b44f-44829a73e1fd",
   "metadata": {},
   "outputs": [
    {
     "data": {
      "image/png": "[encoded data removed]",
      "text/plain": [
       "<IPython.core.display.Image object>"
      ]
     },
     "metadata": {},
     "output_type": "display_data"
    }
   ],
   "source": [
    "from langchain_core.messages import trim_messages\n",
    "\n",
    "# Node\n",
    "def chat_model_node(state: MessagesState):\n",
    "    messages = trim_messages(\n",
    "            state[\"messages\"],\n",
    "            max_tokens=100,\n",
    "            strategy=\"last\",\n",
    "            token_counter=ChatOpenAI(model=\"gpt-4o\"),\n",
    "            allow_partial=False,\n",
    "        )\n",
    "    return {\"messages\": [llm.invoke(messages)]}\n",
    "\n",
    "# Build graph\n",
    "builder = StateGraph(MessagesState)\n",
    "builder.add_node(\"chat_model\", chat_model_node)\n",
    "builder.add_edge(START, \"chat_model\")\n",
    "builder.add_edge(\"chat_model\", END)\n",
    "graph = builder.compile()\n",
    "\n",
    "# View\n",
    "display(Image(graph.get_graph().draw_mermaid_png()))"
   ]
  },
  {
   "cell_type": "code",
   "execution_count": 15,
   "id": "24df63ac-da29-4874-b3df-7e390e97cc8a",
   "metadata": {},
   "outputs": [],
   "source": [
    "messages.append(output['messages'][-1])\n",
    "messages.append(HumanMessage(f\"Tell me where Krishna lives!\", name=\"Balram\"))"
   ]
  },
  {
   "cell_type": "code",
   "execution_count": 16,
   "id": "6d9d8971-c75c-43ca-a209-eb1d07b2ead0",
   "metadata": {},
   "outputs": [
    {
     "data": {
      "text/plain": [
       "[HumanMessage(content='Tell me where Krishna lives!', additional_kwargs={}, response_metadata={}, name='Balram')]"
      ]
     },
     "execution_count": 16,
     "metadata": {},
     "output_type": "execute_result"
    }
   ],
   "source": [
    "# Example of trimming messages\n",
    "trim_messages(\n",
    "            messages,\n",
    "            max_tokens=100,\n",
    "            strategy=\"last\",\n",
    "            token_counter=ChatOpenAI(model=\"gpt-4o\"),\n",
    "            allow_partial=False\n",
    "        )"
   ]
  },
  {
   "cell_type": "code",
   "execution_count": 17,
   "id": "ed70a269-a869-4fa0-a1df-29736a432c51",
   "metadata": {},
   "outputs": [],
   "source": [
    "# Invoke, using message trimming in the chat_model_node \n",
    "messages_out_trim = graph.invoke({'messages': messages})"
   ]
  },
  {
   "cell_type": "markdown",
   "id": "38b3db67-380e-46b5-9a6a-20100ba52008",
   "metadata": {},
   "source": [
    "Let's look at the LangSmith trace to see the model invocation:\n",
    "\n",
    "https://smith.langchain.com/public/b153f7e9-f1a5-4d60-8074-f0d7ab5b42ef/r"
   ]
  }
 ],
 "metadata": {
  "kernelspec": {
   "display_name": "base",
   "language": "python",
   "name": "python3"
  },
  "language_info": {
   "codemirror_mode": {
    "name": "ipython",
    "version": 3
   },
   "file_extension": ".py",
   "mimetype": "text/x-python",
   "name": "python",
   "nbconvert_exporter": "python",
   "pygments_lexer": "ipython3",
   "version": "3.13.5"
  }
 },
 "nbformat": 4,
 "nbformat_minor": 5
}
